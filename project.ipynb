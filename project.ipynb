{
 "cells": [
  {
   "cell_type": "code",
   "execution_count": 26,
   "id": "bbb4f9f2",
   "metadata": {},
   "outputs": [],
   "source": [
    "import pandas as pd\n",
    "import numpy as np\n",
    "import matplotlib.pyplot as plt\n",
    "import seaborn as sns"
   ]
  },
  {
   "cell_type": "code",
   "execution_count": 27,
   "id": "2d7eb3e4",
   "metadata": {},
   "outputs": [
    {
     "name": "stdout",
     "output_type": "stream",
     "text": [
      "<class 'pandas.core.frame.DataFrame'>\n",
      "RangeIndex: 5014 entries, 0 to 5013\n",
      "Data columns (total 13 columns):\n",
      " #   Column                  Non-Null Count  Dtype  \n",
      "---  ------                  --------------  -----  \n",
      " 0   policy_id               5012 non-null   object \n",
      " 1   year                    5012 non-null   float64\n",
      " 2   coverage_period         5012 non-null   float64\n",
      " 3   is_residential          5012 non-null   float64\n",
      " 4   is_finished_and_fenced  5012 non-null   object \n",
      " 5   has_garden              5008 non-null   object \n",
      " 6   locality                5012 non-null   object \n",
      " 7   area_m2                 4935 non-null   float64\n",
      " 8   structure_type          5012 non-null   object \n",
      " 9   window_count            5012 non-null   object \n",
      " 10  risk_score              0 non-null      float64\n",
      " 11  Geo_Code                4939 non-null   object \n",
      " 12  claim                   5012 non-null   object \n",
      "dtypes: float64(5), object(8)\n",
      "memory usage: 509.4+ KB\n"
     ]
    }
   ],
   "source": [
    "df_train = pd.read_excel('./insurance.xlsx')\n",
    "df_train.info()"
   ]
  },
  {
   "cell_type": "code",
   "execution_count": 28,
   "id": "7fd1916e",
   "metadata": {},
   "outputs": [
    {
     "data": {
      "text/plain": [
       "policy_id                    2\n",
       "year                         2\n",
       "coverage_period              2\n",
       "is_residential               2\n",
       "is_finished_and_fenced       2\n",
       "has_garden                   6\n",
       "locality                     2\n",
       "area_m2                     79\n",
       "structure_type               2\n",
       "window_count                 2\n",
       "risk_score                5014\n",
       "Geo_Code                    75\n",
       "claim                        2\n",
       "dtype: int64"
      ]
     },
     "execution_count": 28,
     "metadata": {},
     "output_type": "execute_result"
    }
   ],
   "source": [
    "df_train.isnull().sum()"
   ]
  },
  {
   "cell_type": "code",
   "execution_count": 29,
   "id": "cdedbcc8",
   "metadata": {},
   "outputs": [
    {
     "data": {
      "text/plain": [
       "policy_id                  2\n",
       "year                       2\n",
       "coverage_period            2\n",
       "is_residential             2\n",
       "is_finished_and_fenced     2\n",
       "has_garden                 6\n",
       "locality                   2\n",
       "area_m2                   79\n",
       "structure_type             2\n",
       "window_count               2\n",
       "Geo_Code                  75\n",
       "claim                      2\n",
       "dtype: int64"
      ]
     },
     "execution_count": 29,
     "metadata": {},
     "output_type": "execute_result"
    }
   ],
   "source": [
    "def drop_column(dataframe, column_name):\n",
    "    dataframe = dataframe.drop(columns = {column_name})\n",
    "    return dataframe\n",
    "df_train = drop_column(df_train, 'risk_score')\n",
    "df_train.isnull().sum()"
   ]
  },
  {
   "cell_type": "code",
   "execution_count": 30,
   "id": "9ac3011c",
   "metadata": {},
   "outputs": [
    {
     "data": {
      "text/plain": [
       "policy_id                  0\n",
       "year                       0\n",
       "coverage_period            0\n",
       "is_residential             0\n",
       "is_finished_and_fenced     0\n",
       "has_garden                 4\n",
       "locality                   0\n",
       "area_m2                   77\n",
       "structure_type             0\n",
       "window_count               0\n",
       "Geo_Code                  73\n",
       "claim                      0\n",
       "dtype: int64"
      ]
     },
     "execution_count": 30,
     "metadata": {},
     "output_type": "execute_result"
    }
   ],
   "source": [
    "df_train = df_train.dropna(how='all')\n",
    "df_train.isnull().sum()"
   ]
  },
  {
   "cell_type": "code",
   "execution_count": 31,
   "id": "527d1939",
   "metadata": {},
   "outputs": [],
   "source": [
    "# most frequent car has_garden est catégorielle\n",
    "most_frequent_garden = df_train['has_garden'].mode()[0]\n",
    "df_train['has_garden'] = df_train['has_garden'].fillna(most_frequent_garden)"
   ]
  },
  {
   "cell_type": "code",
   "execution_count": 32,
   "id": "de6f316b",
   "metadata": {},
   "outputs": [
    {
     "data": {
      "text/plain": [
       "policy_id                  0\n",
       "year                       0\n",
       "coverage_period            0\n",
       "is_residential             0\n",
       "is_finished_and_fenced     0\n",
       "has_garden                 0\n",
       "locality                   0\n",
       "area_m2                   77\n",
       "structure_type             0\n",
       "window_count               0\n",
       "Geo_Code                  73\n",
       "claim                      0\n",
       "dtype: int64"
      ]
     },
     "execution_count": 32,
     "metadata": {},
     "output_type": "execute_result"
    }
   ],
   "source": [
    "df_train.isnull().sum()"
   ]
  },
  {
   "cell_type": "code",
   "execution_count": 33,
   "id": "62bc45be",
   "metadata": {},
   "outputs": [
    {
     "data": {
      "image/png": "[encoded data removed]",
      "text/plain": [
       "<Figure size 1000x400 with 2 Axes>"
      ]
     },
     "metadata": {},
     "output_type": "display_data"
    }
   ],
   "source": [
    "plt.figure(figsize=(10,4))\n",
    "plt.subplot(1,2,1); sns.histplot(df_train['area_m2'].dropna(), kde=True); plt.title('area_m2')\n",
    "plt.subplot(1,2,2); df_train['Geo_Code'].value_counts().plot.bar(); plt.title('Geo_Code')\n",
    "plt.show()"
   ]
  },
  {
   "cell_type": "code",
   "execution_count": null,
   "id": "527ac2ea",
   "metadata": {},
   "outputs": [],
   "source": []
  },
  {
   "cell_type": "code",
   "execution_count": null,
   "id": "dc6a5b7f",
   "metadata": {},
   "outputs": [],
   "source": []
  }
 ],
 "metadata": {
  "kernelspec": {
   "display_name": "Python 3",
   "language": "python",
   "name": "python3"
  },
  "language_info": {
   "codemirror_mode": {
    "name": "ipython",
    "version": 3
   },
   "file_extension": ".py",
   "mimetype": "text/x-python",
   "name": "python",
   "nbconvert_exporter": "python",
   "pygments_lexer": "ipython3",
   "version": "3.12.3"
  }
 },
 "nbformat": 4,
 "nbformat_minor": 5
}
